{
 "cells": [
  {
   "cell_type": "code",
   "execution_count": null,
   "metadata": {},
   "outputs": [],
   "source": [
    "import chess.pgn\n",
    "import pandas as pd\n",
    "import re\n",
    "import ast"
   ]
  },
  {
   "cell_type": "markdown",
   "metadata": {},
   "source": [
    "## Create dataframe (without moves for time efficiency)"
   ]
  },
  {
   "cell_type": "code",
   "execution_count": null,
   "metadata": {},
   "outputs": [],
   "source": [
    "pgn = open(\"data/lichess_db_standard_rated_2014-07.pgn\")\n",
    "games = []\n",
    "\n",
    "while True:\n",
    "    game = chess.pgn.read_game(pgn)\n",
    "    if game is None:\n",
    "        break\n",
    "    games.append(game)"
   ]
  },
  {
   "cell_type": "code",
   "execution_count": null,
   "metadata": {},
   "outputs": [],
   "source": [
    "games_data = []\n",
    "\n",
    "for game in games:\n",
    "    headers = game.headers\n",
    "    games_data.append({\n",
    "        \"White\": headers[\"White\"],\n",
    "        \"Black\": headers[\"Black\"],\n",
    "        \"Result\": headers[\"Result\"],\n",
    "        \"Opening\": headers[\"Opening\"],\n",
    "        \"WhiteElo\": headers[\"WhiteElo\"],\n",
    "        \"BlackElo\": headers[\"BlackElo\"],\n",
    "        \"TimeControl\": headers[\"TimeControl\"],\n",
    "        \"Termination\": headers[\"Termination\"],\n",
    "        \n",
    "    })\n",
    "\n",
    "df = pd.concat([pd.DataFrame(games_data)], ignore_index=True)"
   ]
  },
  {
   "cell_type": "code",
   "execution_count": 46,
   "metadata": {},
   "outputs": [],
   "source": [
    "df[\"Result\"] = df[\"Result\"].replace(\"1-0\", \"White\")\n",
    "df[\"Result\"] = df[\"Result\"].replace(\"0-1\", \"Black\")\n",
    "df[\"Result\"] = df[\"Result\"].replace(\"1/2-1/2\", \"Draw\")\n",
    "df = df.rename(columns={\"Result\": \"Winner\"})"
   ]
  },
  {
   "cell_type": "code",
   "execution_count": null,
   "metadata": {},
   "outputs": [],
   "source": [
    "df.to_csv(\"data/games/games_without_moves.csv\", index=False)"
   ]
  },
  {
   "cell_type": "markdown",
   "metadata": {},
   "source": [
    "## Update dataset to include moves"
   ]
  },
  {
   "cell_type": "code",
   "execution_count": 3,
   "metadata": {},
   "outputs": [],
   "source": [
    "with open(\"data/lichess_db_standard_rated_2014-07.pgn\") as pgn:\n",
    "    lines = pgn.readlines()\n",
    "    moves_lines = [line for line in lines if line.startswith(\"1.\") or line.startswith(\" 0\") or line.startswith(\" 1\")]"
   ]
  },
  {
   "cell_type": "code",
   "execution_count": 5,
   "metadata": {},
   "outputs": [],
   "source": [
    "games = pd.DataFrame(moves_lines, columns=['Moves'])"
   ]
  },
  {
   "cell_type": "code",
   "execution_count": null,
   "metadata": {},
   "outputs": [],
   "source": [
    "games['Moves'] = games['Moves'].apply(lambda x: re.sub(r'\\d+\\.', '', x))\n",
    "games['Moves'] = games['Moves'].apply(lambda x: re.sub(r'\\{ \\[%eval [^\\}]*\\}', '', x))\n",
    "games['Moves'] = games['Moves'].apply(lambda x: re.sub(r'\\.\\.', '', x))\n",
    "games['Moves'] = games['Moves'].apply(lambda x: re.sub(r'[!?]', '', x))\n",
    "games['Moves'] = games['Moves'].apply(lambda x: re.sub(r'\\s+', ' ', x))\n",
    "games['Moves'] = games['Moves'].apply(lambda x: x.strip())\n",
    "games['Moves'] = games['Moves'].apply(lambda x: x.split(' ')[:-1])"
   ]
  },
  {
   "cell_type": "code",
   "execution_count": null,
   "metadata": {},
   "outputs": [
    {
     "name": "stderr",
     "output_type": "stream",
     "text": [
      "/var/folders/jp/06cx0jr53fn1xtpgl_6nbcpc0000gn/T/ipykernel_86470/4203723164.py:1: DtypeWarning: Columns (7,8) have mixed types. Specify dtype option on import or set low_memory=False.\n",
      "  no_games = pd.read_csv(\"data/games/games_july_2014.csv\")\n"
     ]
    }
   ],
   "source": [
    "no_games = pd.read_csv(\"data/games/games_without_moves.csv\")"
   ]
  },
  {
   "cell_type": "code",
   "execution_count": null,
   "metadata": {},
   "outputs": [],
   "source": [
    "games = pd.concat([no_games, games], axis=1)"
   ]
  },
  {
   "cell_type": "code",
   "execution_count": 24,
   "metadata": {},
   "outputs": [],
   "source": [
    "games['Moves'] = games['Moves'].apply(lambda x: ast.literal_eval(x))"
   ]
  },
  {
   "cell_type": "code",
   "execution_count": null,
   "metadata": {},
   "outputs": [],
   "source": [
    "games['Moves'] = games['Moves'].apply(lambda x: x if len(x) >= 10 else None)\n",
    "games = games.dropna()\n",
    "games['Moves'] = games['Moves'].apply(lambda x: x[:10])"
   ]
  },
  {
   "cell_type": "code",
   "execution_count": 29,
   "metadata": {},
   "outputs": [],
   "source": [
    "games.to_csv(\"data/games/cleaned_games.csv\", index=False)"
   ]
  }
 ],
 "metadata": {
  "kernelspec": {
   "display_name": ".venv",
   "language": "python",
   "name": "python3"
  },
  "language_info": {
   "codemirror_mode": {
    "name": "ipython",
    "version": 3
   },
   "file_extension": ".py",
   "mimetype": "text/x-python",
   "name": "python",
   "nbconvert_exporter": "python",
   "pygments_lexer": "ipython3",
   "version": "3.10.13"
  }
 },
 "nbformat": 4,
 "nbformat_minor": 2
}
